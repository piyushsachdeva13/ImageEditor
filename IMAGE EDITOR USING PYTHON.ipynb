{
 "cells": [
  {
   "cell_type": "markdown",
   "metadata": {},
   "source": [
    "# IMAGE EDITING USING PYTHON"
   ]
  },
  {
   "cell_type": "code",
   "execution_count": 1,
   "metadata": {},
   "outputs": [
    {
     "name": "stdout",
     "output_type": "stream",
     "text": [
      "WELCOME TO PYTHON BASED IMAGE EDITOR \n"
     ]
    }
   ],
   "source": [
    "print('WELCOME TO PYTHON BASED IMAGE EDITOR ')"
   ]
  },
  {
   "cell_type": "code",
   "execution_count": null,
   "metadata": {},
   "outputs": [
    {
     "name": "stdout",
     "output_type": "stream",
     "text": [
      "Please enter path of Image--> \n",
      "C:\\Users\\HP\\Python programs\\Projects\\Capture.PNG\n"
     ]
    }
   ],
   "source": [
    "##Taking path from user\n",
    "path_temp=input('Please enter path of Image--> \\n')\n",
    "print('\\n')\n",
    "\n",
    "\n",
    "##Modifying the path as per requirement\n",
    "original_path=path_temp.replace('\\\\','/')\n",
    "\n",
    "##Importing required modules from PIL library\n",
    "from PIL import Image, ImageEnhance, ImageFilter\n",
    "img2=Image.open(original_path)\n",
    "\n",
    "##Saving your intial image\n",
    "img2.save(\"yourimg.png\")\n",
    "\n",
    "\n",
    "##Displaying the image \n",
    "img2.show()\n",
    "\n",
    "##Confirmation of image\n",
    "confirm=input(\"To confirm your image press Y, otherwise N-\\n\")\n",
    "print(\"\\n\")\n",
    "\n",
    "if confirm=='Y':\n",
    "    \n",
    "    #Resize your image first\n",
    "    \n",
    "    IMAGE_LEN=int(input(\"Set the value of length-\\n\"))\n",
    "    print('\\n')\n",
    "    IMAGE_BRED=int(input(\"Set the value of breadth-\\n\"))\n",
    "    print('\\n')\n",
    "    IMAGE_SIZE=(IMAGE_LEN,IMAGE_BRED)\n",
    "    \n",
    "    \n",
    "    img2.thumbnail(IMAGE_SIZE)\n",
    "    img2.save('resized.png') ##Resized image saved\n",
    "    \n",
    "    #  to inc./dec. the sharpness  \n",
    "    # 0: BLURRY\n",
    "    # 1: ORIGINAL IMAGE\n",
    "    # 1-100:IMAGE WITH INCREASE SHARPNESS\n",
    "    \n",
    "    # ----------------- SHARPNESS EFFECT\n",
    "    \n",
    "    Enhance_value=float(input(\"Enter value to set Sharpness-\\n\"))\n",
    "    enhancer=ImageEnhance.Sharpness(img2)\n",
    "    enhancer.enhance(Enhance_value).save(\"tempsharpness2.png\")\n",
    "    print('\\n')\n",
    "    \n",
    "    # ----------------- BRIGHTNESS EFFECT\n",
    "    \n",
    "    brightness_value=float(input(\"Enter value to set brightness-\\n\"))\n",
    "    img_en=Image.open(\"tempsharpness2.png\")\n",
    "    brightnesseff=ImageEnhance.Brightness(img_en)\n",
    "    brightnesseff.enhance(brightness_value).save(\"tempbrightness.png\")\n",
    "    print('\\n')\n",
    "    \n",
    "    # --------- COLOR EFFECT\n",
    "    \n",
    "    colour_value=float(input(\"Enter value to set Color-\\n\"))\n",
    "    img_co=Image.open(\"tempbrightness.png\")\n",
    "    coloureff=ImageEnhance.Color(img_co)\n",
    "    coloureff.enhance(colour_value).save(\"tempcolour.png\")\n",
    "    print('\\n')\n",
    "    \n",
    "    # ------------ CONTRAST EFFECT\n",
    "    \n",
    "    contrast_value=float(input(\"Enter value to set contrast-\\n\"))\n",
    "    img_con=Image.open(\"tempcolour.png\")\n",
    "    contrasteff=ImageEnhance.Contrast(img_con)\n",
    "    contrasteff.enhance(contrast_value).save(\"tempcontrast.png\")\n",
    "    print('\\n')\n",
    "    \n",
    "     # ------------ Blur EFFECT\n",
    "        \n",
    "    # gaussian blur is used to blur the image\n",
    "    \n",
    "    blur_value=float(input(\"Enter value to blur-\\n\"))\n",
    "    img_blur=Image.open(\"tempcontrast.png\")\n",
    "    img_blur.filter(ImageFilter.GaussianBlur(blur_value)).save(\"FINALPICTURE.png\")\n",
    "    \n",
    "    choice=input('Press Y to get PDF format/ press N to get PNG')\n",
    "    \n",
    "    if choice=='Y':\n",
    "        chngpdf=Image.open(\"FINALPICTURE.png\")\n",
    "        chngpdf.save(\"FINALpdf.jpg\")\n",
    "        print(\"Your final image has been saved in PDF format\")\n",
    "    else:\n",
    "        print('Your final image has been saved in PNG format-')\n",
    "    \n",
    "\n",
    "else:\n",
    "    print(\"Please choose the correct path.\")\n",
    "    \n"
   ]
  },
  {
   "cell_type": "markdown",
   "metadata": {},
   "source": [
    "# Independent commands for every feature"
   ]
  },
  {
   "cell_type": "code",
   "execution_count": null,
   "metadata": {},
   "outputs": [],
   "source": [
    "img1=Image.open(\"C:/Users/HP/Python programs/Projects/pexels-radu-florin-2798470 .png\")\n",
    "# \\ --> / change"
   ]
  },
  {
   "cell_type": "code",
   "execution_count": null,
   "metadata": {},
   "outputs": [],
   "source": [
    "img1.save(\"manuedited.png\")\n",
    "# # to save image in png form"
   ]
  },
  {
   "cell_type": "code",
   "execution_count": null,
   "metadata": {},
   "outputs": [],
   "source": [
    "# # for save the image in pdf form\n",
    "img1.save(\"manuedited.pdf\")  "
   ]
  },
  {
   "cell_type": "code",
   "execution_count": null,
   "metadata": {},
   "outputs": [],
   "source": [
    "img1.show()\n",
    "# # to show the original one"
   ]
  },
  {
   "cell_type": "code",
   "execution_count": null,
   "metadata": {},
   "outputs": [],
   "source": [
    "# #resize image and also auto size of image decreases\n",
    "MAX_SIZE=(250,250)\n",
    "img1.thumbnail(MAX_SIZE)\n",
    "img1.save(\"resize.png\")\n"
   ]
  },
  {
   "cell_type": "code",
   "execution_count": null,
   "metadata": {},
   "outputs": [],
   "source": [
    "import os"
   ]
  },
  {
   "cell_type": "code",
   "execution_count": null,
   "metadata": {},
   "outputs": [],
   "source": [
    "# using loop to convert jpg file into png \n",
    "for item in os.listdir():\n",
    "    if item.endswith(\".jpg\"):\n",
    "        img1=Image.open(item)\n",
    "        filename,extension = os.path.splitext(item)\n",
    "        img1.save(f\"{filename}.png\")"
   ]
  },
  {
   "cell_type": "code",
   "execution_count": null,
   "metadata": {},
   "outputs": [],
   "source": [
    "# import command for sharpness\n",
    "from PIL import ImageEnhance"
   ]
  },
  {
   "cell_type": "code",
   "execution_count": null,
   "metadata": {},
   "outputs": [],
   "source": [
    "#  to inc./dec. the sharpness  \n",
    "# 0: BLURRY\n",
    "# 1: ORIGINAL IMAGE\n",
    "# 1-100:IMAGE WITH INCREASE SHARPNESS\n",
    "enhancer=ImageEnhance.Sharpness(img1)\n",
    "enhancer.enhance(99).save(\"editsharpness2.jpg\")\n"
   ]
  },
  {
   "cell_type": "code",
   "execution_count": null,
   "metadata": {},
   "outputs": [],
   "source": [
    "# --------- COLOUR EFFECT\n",
    "img2=Image.open(\"C:/Users/HP/Python programs/Projects/pexels-radu-florin-2798470 .png\")\n",
    "coloureff=ImageEnhance.Color(img2)\n",
    "coloureff.enhance(0).save(\"colourchange2.jpg\")"
   ]
  },
  {
   "cell_type": "code",
   "execution_count": null,
   "metadata": {},
   "outputs": [],
   "source": [
    "# ----------------- BRIGHTNESS EFFECT\n",
    "img2=Image.open(\"C:/Users/HP/Python programs/Projects/pexels-radu-florin-2798470 .png\")\n",
    "brightnesseff=ImageEnhance.Brightness(img2)\n",
    "brightnesseff.enhance(2).save(\"brightnesschange2.jpg\")"
   ]
  },
  {
   "cell_type": "code",
   "execution_count": null,
   "metadata": {},
   "outputs": [],
   "source": [
    "# ------------ CONTRAST EFFECT\n",
    "img2=Image.open(\"C:/Users/HP/Python programs/Projects/pexels-radu-florin-2798470 .png\")\n",
    "contrasteff=ImageEnhance.Contrast(img2)\n",
    "contrasteff.enhance(1.75).save(\"contrastchange2.jpg\")\n"
   ]
  },
  {
   "cell_type": "code",
   "execution_count": null,
   "metadata": {},
   "outputs": [],
   "source": [
    "# -----------IMAGE BLUR\n",
    "from PIL import ImageFilter\n",
    "# this will be further used to blur the image\n"
   ]
  },
  {
   "cell_type": "code",
   "execution_count": null,
   "metadata": {},
   "outputs": [],
   "source": [
    "# gaussian blur is used to blur the image\n",
    "pex=Image.open(\"C:/Users/HP/Python programs/Projects/pexels-radu-florin-2798470 .png\")"
   ]
  },
  {
   "cell_type": "code",
   "execution_count": null,
   "metadata": {},
   "outputs": [],
   "source": [
    "pex.filter(ImageFilter.GaussianBlur(56)).save(\"BLURPICTURE.jpg\")"
   ]
  },
  {
   "cell_type": "code",
   "execution_count": null,
   "metadata": {},
   "outputs": [],
   "source": []
  }
 ],
 "metadata": {
  "kernelspec": {
   "display_name": "Python 3",
   "language": "python",
   "name": "python3"
  },
  "language_info": {
   "codemirror_mode": {
    "name": "ipython",
    "version": 3
   },
   "file_extension": ".py",
   "mimetype": "text/x-python",
   "name": "python",
   "nbconvert_exporter": "python",
   "pygments_lexer": "ipython3",
   "version": "3.8.3"
  }
 },
 "nbformat": 4,
 "nbformat_minor": 4
}
